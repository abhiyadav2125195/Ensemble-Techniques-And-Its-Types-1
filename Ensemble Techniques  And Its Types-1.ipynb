{
 "cells": [
  {
   "cell_type": "markdown",
   "id": "869af4eb-bb4f-47d2-ab55-cdd195043d96",
   "metadata": {},
   "source": [
    "# Q1. What is an ensemble technique in machine learning?"
   ]
  },
  {
   "cell_type": "markdown",
   "id": "934e5348-8475-4448-b778-db3b8cf6109f",
   "metadata": {},
   "source": [
    "An ensemble technique in machine learning is a method that combines the predictions of multiple individual models (learners) to improve the overall predictive performance and robustness of the model. The goal of ensemble techniques is to leverage the diversity of the individual models to make more accurate and reliable predictions."
   ]
  },
  {
   "cell_type": "markdown",
   "id": "1aaf557b-cc4d-418a-ab9f-1d0171ecd463",
   "metadata": {},
   "source": [
    "# Q2. Why are ensemble techniques used in machine learning?"
   ]
  },
  {
   "cell_type": "markdown",
   "id": "c778b9ec-6607-439b-bca3-2ac6c108ea68",
   "metadata": {},
   "source": [
    "Improved Prediction Accuracy: Ensembles can often outperform individual models by reducing bias and variance.\n",
    "Robustness: Ensembles are less prone to overfitting and are more resistant to noise in the data.\n",
    "Generalization: They can generalize well to new and unseen data.\n",
    "Handling Complex Relationships: Ensembles can capture complex relationships in the data by combining different perspectives from individual models.\n",
    "Model Stability: Ensembles can provide more stable predictions when the data is limited or noisy."
   ]
  },
  {
   "cell_type": "markdown",
   "id": "05ca0891-f80e-4a85-b1e3-8d6e0c3f5a49",
   "metadata": {},
   "source": [
    "# Q3. What is bagging?"
   ]
  },
  {
   "cell_type": "markdown",
   "id": "5f9f9a25-1b73-492d-add0-4fcb5196ef78",
   "metadata": {},
   "source": [
    "Bagging, which stands for Bootstrap Aggregating, is an ensemble technique that involves training multiple instances of the same model on different random subsets (with replacement) of the training data and then combining their predictions. Bagging aims to reduce the variance of the model by averaging or voting over multiple models, thereby improving overall predictive performance and stability."
   ]
  },
  {
   "cell_type": "markdown",
   "id": "51784f9f-824f-419f-9b02-da8904677b03",
   "metadata": {},
   "source": [
    "# Q4. What is boosting?"
   ]
  },
  {
   "cell_type": "markdown",
   "id": "89c27161-d83b-49b7-8a57-29c32c156bbb",
   "metadata": {},
   "source": [
    " Boosting is an ensemble technique that aims to improve the accuracy of a model by combining the predictions of multiple weak learners (models that perform slightly better than random guessing). Boosting assigns different weights to training instances and focuses on correcting the errors of previous models. The final prediction is a weighted combination of individual models, giving more weight to the models that perform better."
   ]
  },
  {
   "cell_type": "markdown",
   "id": "28ab4a82-9d93-429b-95d3-a7bdbf7ee6ad",
   "metadata": {},
   "source": [
    "# Q5. What are the benefits of using ensemble techniques?"
   ]
  },
  {
   "cell_type": "markdown",
   "id": "34fb6cdf-9b71-4d2e-988b-b779f58f2c6b",
   "metadata": {},
   "source": [
    "Improved Prediction Accuracy: Ensembles can reduce both bias and variance, leading to better overall predictions.\n",
    "Increased Robustness: They are less sensitive to noise and outliers in the data.\n",
    "Better Generalization: Ensembles often generalize well to new, unseen data.\n",
    "Handling Complex Relationships: Ensembles can capture complex relationships that may be missed by individual models.\n",
    "Model Stability: They provide more stable predictions, especially when the data is limited."
   ]
  },
  {
   "cell_type": "markdown",
   "id": "8f980921-6a91-483d-924c-bf90218f741a",
   "metadata": {},
   "source": [
    "# Q6. Are ensemble techniques always better than individual models?"
   ]
  },
  {
   "cell_type": "markdown",
   "id": "5c99e46f-8bc4-463d-b7ec-e3f0603c3ac0",
   "metadata": {},
   "source": [
    " Ensemble techniques are not always better than individual models. While they often lead to improved performance, there are situations where they may not be advantageous. For example, if the individual models in the ensemble are highly correlated or if the data is very noisy, ensemble methods may not provide significant benefits. The choice of whether to use an ensemble depends on the specific problem and the characteristics of the data."
   ]
  },
  {
   "cell_type": "markdown",
   "id": "fb4fcfeb-32f0-43f9-afed-c33b06797c8e",
   "metadata": {},
   "source": [
    "# Q7. How is the confidence interval calculated using bootstrap?"
   ]
  },
  {
   "cell_type": "markdown",
   "id": "de576fdf-f236-49b7-a06b-314251bdb5c3",
   "metadata": {},
   "source": [
    "The confidence interval using bootstrap can be calculated by repeatedly resampling the dataset (with replacement) to create multiple bootstrap samples. For each bootstrap sample, you calculate the statistic of interest (e.g., mean, median) and store these values. The confidence interval is then determined from the distribution of these bootstrap statistics."
   ]
  },
  {
   "cell_type": "markdown",
   "id": "3f7faf3f-e7a8-4cfb-8798-e0bbf8222564",
   "metadata": {},
   "source": [
    "# Q8. How does bootstrap work and What are the steps involved in bootstrap?"
   ]
  },
  {
   "cell_type": "markdown",
   "id": "9c985efc-9fe8-46a0-9bf2-52f385b98772",
   "metadata": {},
   "source": [
    "Randomly draw a sample (called a bootstrap sample) with replacement from the original data. This sample is of the same size as the original dataset.\n",
    "Calculate the statistic of interest (e.g., mean, median, variance) for the bootstrap sample.\n",
    "Repeat steps 1 and 2 a large number of times (e.g., thousands of times) to create a distribution of the statistic.\n",
    "Use the distribution of the statistic to estimate confidence intervals, standard errors, or other properties of interest."
   ]
  },
  {
   "cell_type": "markdown",
   "id": "a5b53fdf-ab25-4bb2-95db-9fabe47d4f0f",
   "metadata": {},
   "source": [
    "# Q9. A researcher wants to estimate the mean height of a population of trees. They measure the height of a sample of 50 trees and obtain a mean height of 15 meters and a standard deviation of 2 meters. Use bootstrap to estimate the 95% confidence interval for the population mean height."
   ]
  },
  {
   "cell_type": "code",
   "execution_count": null,
   "id": "3e0ce476-5714-4f3b-9440-0a217748fd5a",
   "metadata": {},
   "outputs": [],
   "source": []
  }
 ],
 "metadata": {
  "kernelspec": {
   "display_name": "Python 3 (ipykernel)",
   "language": "python",
   "name": "python3"
  },
  "language_info": {
   "codemirror_mode": {
    "name": "ipython",
    "version": 3
   },
   "file_extension": ".py",
   "mimetype": "text/x-python",
   "name": "python",
   "nbconvert_exporter": "python",
   "pygments_lexer": "ipython3",
   "version": "3.10.8"
  }
 },
 "nbformat": 4,
 "nbformat_minor": 5
}
